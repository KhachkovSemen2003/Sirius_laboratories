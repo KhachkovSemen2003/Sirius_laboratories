{
 "cells": [
  {
   "cell_type": "markdown",
   "id": "86a8fbd0",
   "metadata": {},
   "source": [
    "1. УСЛОВНЫЕ ОПЕРАТОРЫ\n",
    "Задание 1.1: Калькулятор оценок\n",
    "Напишите программу, которая принимает числовую оценку (0-100) и выводит соответствующую буквенную оценку:\n",
    "\n",
    "90-100: A\n",
    "80-89: B\n",
    "70-79: C\n",
    "60-69: D\n",
    "0-59: F\n",
    "Используйте как обычные if-elif-else конструкции, так и match-case."
   ]
  },
  {
   "cell_type": "code",
   "execution_count": null,
   "id": "e7aa900b",
   "metadata": {},
   "outputs": [],
   "source": [
    "def fi(mark:int) ->str:\n",
    "    assert 0 <= mark <= 100, f\"incorrect input value {mark} of type {type(mark)}\"\n",
    "    if mark <= 100 and mark >=90:\n",
    "        return(\"A\")\n",
    "    elif mark < 90 and mark >=80:\n",
    "        return(\"B\")\n",
    "    elif mark < 80 and mark >=70:\n",
    "        return(\"C\")\n",
    "    elif mark < 70 and mark >=60:\n",
    "        return(\"D\")\n",
    "    elif mark < 60 and mark >=50:\n",
    "        return \"E\"\n",
    "    elif mark < 50 and mark >=40:\n",
    "        return \"F\"\n",
    "    else:\n",
    "        return(\"inc\")\n",
    "#print(fi(51))"
   ]
  },
  {
   "cell_type": "markdown",
   "id": "6b0d318b",
   "metadata": {},
   "source": [
    "Задание 1.2: Проверка года на високосность\n",
    "Создайте функцию, которая определяет, является ли год високосным. Год високосный, если:\n",
    "\n",
    "Он делится на 4, но не на 100, ИЛИ\n",
    "Он делится на 400"
   ]
  },
  {
   "cell_type": "code",
   "execution_count": null,
   "id": "bc8e6ebf",
   "metadata": {},
   "outputs": [],
   "source": [
    "def vs(mark:int) ->str:\n",
    "    assert 0 <= mark, f\"incorrect input value {mark} of type {type(mark)}\"\n",
    "    if (mark % 400 == 0) or (mark % 4 == 0 and mark % 100 != 0):\n",
    "        return \"good\"\n",
    "    else:\n",
    "        return \"not good\"\n",
    "#print(vs(1916))"
   ]
  },
  {
   "cell_type": "markdown",
   "id": "cbae3eed",
   "metadata": {},
   "source": [
    "Задание 1.3: Классификация треугольников\n",
    "Напишите программу, которая по трем сторонам треугольника определяет его тип:\n",
    "\n",
    "Равносторонний (все стороны равны)\n",
    "Равнобедренный (две стороны равны)\n",
    "Разносторонний (все стороны разные)\n",
    "Не является треугольником (сумма двух сторон меньше третьей)"
   ]
  },
  {
   "cell_type": "code",
   "execution_count": null,
   "id": "eb5963b0",
   "metadata": {},
   "outputs": [],
   "source": [
    "def tri(mark1:int, mark2:int, mark3:int) -> str:\n",
    "    if ((mark1 + mark2) <= mark3) or ((mark1 + mark3) <= mark2) or ((mark3 + mark2) <= mark1):\n",
    "        return \"no triangle\"\n",
    "    elif mark1 == mark2 == mark3:\n",
    "        return \"равносторонний\"\n",
    "    elif mark1 == mark2 or mark1 == mark3 or mark3 == mark2:\n",
    "        return \"равнобедренный\"\n",
    "    else:\n",
    "        return \"классический\"\n",
    "#print(tri(1,2,1))"
   ]
  },
  {
   "cell_type": "markdown",
   "id": "3335a099",
   "metadata": {},
   "source": [
    "2. ЦИКЛЫ\n",
    "Задание 2.1: Таблица умножения\n",
    "Создайте программу, которая выводит таблицу умножения от 1 до 10. Используйте вложенные циклы for."
   ]
  },
  {
   "cell_type": "code",
   "execution_count": null,
   "id": "35223ceb",
   "metadata": {},
   "outputs": [],
   "source": [
    "def ymn():\n",
    "    for i in range(1, 10):\n",
    "        for j in range(1, 10):\n",
    "            print(f\"{i} * {j} = {i*j}\")\n",
    "#ymn()"
   ]
  },
  {
   "cell_type": "markdown",
   "id": "e96064e8",
   "metadata": {},
   "source": [
    "Задание 2.2: Поиск простых чисел\n",
    "Напишите функцию, которая находит все простые числа от 2 до заданного числа n. Используйте цикл for и проверку делимости."
   ]
  },
  {
   "cell_type": "code",
   "execution_count": null,
   "id": "4a213f70",
   "metadata": {},
   "outputs": [],
   "source": [
    "def find_primes_simple(n):\n",
    "    primes = []\n",
    "    for i in range(2, n + 1):\n",
    "        flag = 0\n",
    "        for j in range(2, int(i ** 0.5) + 1):\n",
    "            if i % j == 0:\n",
    "                flag = 1\n",
    "                break\n",
    "        if flag == 0:\n",
    "            primes.append(i)\n",
    "    return primes\n",
    "#print(find_primes_simple(23))"
   ]
  },
  {
   "cell_type": "markdown",
   "id": "23a0e0ba",
   "metadata": {},
   "source": [
    "Задание 2.3: Игра \"Угадай число\"\n",
    "Создайте игру, где компьютер загадывает случайное число от 1 до 100, а пользователь пытается его угадать. Программа должна:\n",
    "\n",
    "Генерировать случайное число\n",
    "Принимать ввод от пользователя\n",
    "Давать подсказки \"больше\" или \"меньше\"\n",
    "Считать количество попыток\n",
    "Использовать цикл while"
   ]
  },
  {
   "cell_type": "code",
   "execution_count": 2,
   "id": "4bbb15b5",
   "metadata": {},
   "outputs": [
    {
     "name": "stdout",
     "output_type": "stream",
     "text": [
      "5\n",
      "больше\n",
      "99\n",
      "меньше\n",
      "50\n",
      "меньше\n",
      "40\n",
      "больше\n",
      "45\n",
      "больше\n",
      "47\n",
      "меньше\n",
      "46\n",
      "успех\n"
     ]
    }
   ],
   "source": [
    "import random\n",
    "\n",
    "def play():\n",
    "    play_int = int(input())\n",
    "    random_number = random.randint(0, 100)\n",
    "    while play_int != random_number:\n",
    "        if play_int > random_number:\n",
    "            print(\"меньше\")\n",
    "        else:\n",
    "            print(\"больше\")\n",
    "        play_int = int(input())\n",
    "    print(\"успех\")\n",
    "play()"
   ]
  },
  {
   "cell_type": "markdown",
   "id": "be54b50b",
   "metadata": {},
   "source": [
    "Задание 2.4: Анализ текста\n",
    "Напишите программу, которая анализирует текст и выводит:\n",
    "\n",
    "Количество символов\n",
    "Количество слов\n",
    "Количество предложений\n",
    "Самые частые слова (топ-5)\n",
    "Используйте циклы for для обработки текста."
   ]
  },
  {
   "cell_type": "code",
   "execution_count": null,
   "id": "fb2fe2d0",
   "metadata": {},
   "outputs": [],
   "source": [
    "def analyze_text(file):\n",
    "    with open('file.txt', 'r', encoding='utf-8') as file:\n",
    "        text = file.read()\n",
    "    char_count = len(text)\n",
    "    print(char_count)\n",
    "    words = text.split()\n",
    "    word_count = len(words)\n",
    "    print(word_count)\n",
    "    sentence_count = 0\n",
    "    for char in text:\n",
    "        if char in '.!?':\n",
    "            sentence_count += 1\n",
    "    print(sentence_count)\n",
    "    word_freq = {}\n",
    "    cleaned_words = []\n",
    "    for word in words:\n",
    "        clean_word = ''.join(char for char in word if char.isalnum()).lower()\n",
    "        if clean_word:\n",
    "            cleaned_words.append(clean_word)\n",
    "    for word in cleaned_words:\n",
    "        if word in word_freq:\n",
    "            word_freq[word] += 1\n",
    "        else:\n",
    "            word_freq[word] = 1\n",
    "\n",
    "    sorted_words = sorted(word_freq.items(), key=lambda x: x[1], reverse=True)\n",
    "\n",
    "    print(\"4. Самые частые слова (топ-5):\")\n",
    "    for i, (word, count) in enumerate(sorted_words[:5], 1):\n",
    "        print(f\"   {i}. '{word}' - {count} раз(а)\")\n",
    "#analyze_text('file.txt')"
   ]
  },
  {
   "cell_type": "markdown",
   "id": "070bafcf",
   "metadata": {},
   "source": [
    "3. ОБРАБОТКА ОШИБОК\n",
    "Задание 3.1: Безопасный калькулятор\n",
    "Создайте калькулятор, который безопасно выполняет арифметические операции:\n",
    "\n",
    "Принимает два числа и операцию (+, -, *, /)\n",
    "Обрабатывает деление на ноль\n",
    "Обрабатывает неверный ввод (не числа)\n",
    "Обрабатывает неверные операции\n",
    "Использует try-except-finally блоки"
   ]
  },
  {
   "cell_type": "code",
   "execution_count": null,
   "id": "99a579b8",
   "metadata": {},
   "outputs": [],
   "source": [
    "def calc(mark1:int, mark2: int, mark3: str):\n",
    "    try:\n",
    "        status = mark3\n",
    "        match status:\n",
    "            case '+':\n",
    "                print(mark1+mark2)\n",
    "            case '-':\n",
    "                print(mark1 - mark2)\n",
    "            case '/':\n",
    "                print(mark1 / mark2)\n",
    "            case '*':\n",
    "                print(mark1 * mark2)\n",
    "    except ZeroDivisionError:\n",
    "        print(\"Ошибка: деление на ноль запрещено!\")\n",
    "    except ValueError:\n",
    "        print(\"Ошибка: введено не число!\")\n",
    "    except TypeError:\n",
    "        print(\"Ошибка: несовместимые типы данных!\")\n",
    "    except NameError:\n",
    "        print(\"Ошибка: переменная не определена!\")\n",
    "calc(10,5, '/')"
   ]
  }
 ],
 "metadata": {
  "kernelspec": {
   "display_name": "Python 3 (ipykernel)",
   "language": "python",
   "name": "python3"
  },
  "language_info": {
   "codemirror_mode": {
    "name": "ipython",
    "version": 3
   },
   "file_extension": ".py",
   "mimetype": "text/x-python",
   "name": "python",
   "nbconvert_exporter": "python",
   "pygments_lexer": "ipython3",
   "version": "3.10.9"
  }
 },
 "nbformat": 4,
 "nbformat_minor": 5
}
