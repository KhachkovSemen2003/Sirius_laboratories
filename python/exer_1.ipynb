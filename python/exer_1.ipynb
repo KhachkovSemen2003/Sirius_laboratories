{
 "cells": [
  {
   "cell_type": "markdown",
   "id": "36d04e19",
   "metadata": {},
   "source": [
    "1. УСЛОВНЫЕ ОПЕРАТОРЫ\n",
    "Задание 1.1: Калькулятор оценок\n",
    "Напишите программу, которая принимает числовую оценку (0-100) и выводит соответствующую буквенную оценку:\n",
    "\n",
    "90-100: A\n",
    "80-89: B\n",
    "70-79: C\n",
    "60-69: D\n",
    "0-59: F\n",
    "Используйте как обычные if-elif-else конструкции, так и match-case."
   ]
  },
  {
   "cell_type": "code",
   "execution_count": 3,
   "id": "d0ee8bea",
   "metadata": {},
   "outputs": [
    {
     "name": "stdout",
     "output_type": "stream",
     "text": [
      "E\n"
     ]
    }
   ],
   "source": [
    "def fi(mark:int) ->str:\n",
    "    assert 0 <= mark <= 100, f\"incorrect input value {mark} of type {type(mark)}\"\n",
    "    if mark <= 100 and mark >=90:\n",
    "        return(\"A\")\n",
    "    elif mark < 90 and mark >=80:\n",
    "        return(\"B\")\n",
    "    elif mark < 80 and mark >=70:\n",
    "        return(\"C\")\n",
    "    elif mark < 70 and mark >=60:\n",
    "        return(\"D\")\n",
    "    elif mark < 60 and mark >=50:\n",
    "        return \"E\"\n",
    "    elif mark < 50 and mark >=40:\n",
    "        return \"F\"\n",
    "    else:\n",
    "        return(\"inc\")\n",
    "print(fi(51))"
   ]
  },
  {
   "cell_type": "markdown",
   "id": "f813e88f",
   "metadata": {},
   "source": [
    "Задание 1.2: Проверка года на високосность\n",
    "Создайте функцию, которая определяет, является ли год високосным. Год високосный, если:\n",
    "\n",
    "Он делится на 4, но не на 100, ИЛИ\n",
    "Он делится на 400"
   ]
  },
  {
   "cell_type": "code",
   "execution_count": 4,
   "id": "2e58c409",
   "metadata": {},
   "outputs": [
    {
     "name": "stdout",
     "output_type": "stream",
     "text": [
      "good\n"
     ]
    }
   ],
   "source": [
    "def vs(mark:int) ->str:\n",
    "    assert 0 <= mark, f\"incorrect input value {mark} of type {type(mark)}\"\n",
    "    if (mark % 400 == 0) or (mark % 4 == 0 and mark % 100 != 0):\n",
    "        return \"good\"\n",
    "    else:\n",
    "        return \"not good\"\n",
    "print(vs(1916))"
   ]
  },
  {
   "cell_type": "markdown",
   "id": "f61fd0c5",
   "metadata": {},
   "source": [
    "Задание 1.3: Классификация треугольников\n",
    "Напишите программу, которая по трем сторонам треугольника определяет его тип:\n",
    "\n",
    "Равносторонний (все стороны равны)\n",
    "Равнобедренный (две стороны равны)\n",
    "Разносторонний (все стороны разные)\n",
    "Не является треугольником (сумма двух сторон меньше третьей)"
   ]
  },
  {
   "cell_type": "code",
   "execution_count": 5,
   "id": "b4436e57",
   "metadata": {},
   "outputs": [
    {
     "name": "stdout",
     "output_type": "stream",
     "text": [
      "no triangle\n"
     ]
    }
   ],
   "source": [
    "def tri(mark1:int, mark2:int, mark3:int) -> str:\n",
    "    if ((mark1 + mark2) <= mark3) or ((mark1 + mark3) <= mark2) or ((mark3 + mark2) <= mark1):\n",
    "        return \"no triangle\"\n",
    "    elif mark1 == mark2 == mark3:\n",
    "        return \"равносторонний\"\n",
    "    elif mark1 == mark2 or mark1 == mark3 or mark3 == mark2:\n",
    "        return \"равнобедренный\"\n",
    "    else:\n",
    "        return \"классический\"\n",
    "print(tri(1,2,1))"
   ]
  },
  {
   "cell_type": "markdown",
   "id": "b3f04042",
   "metadata": {},
   "source": [
    "2. ЦИКЛЫ\n",
    "Задание 2.1: Таблица умножения\n",
    "Создайте программу, которая выводит таблицу умножения от 1 до 10. Используйте вложенные циклы for."
   ]
  },
  {
   "cell_type": "code",
   "execution_count": 6,
   "id": "59b16833",
   "metadata": {},
   "outputs": [
    {
     "name": "stdout",
     "output_type": "stream",
     "text": [
      "1 * 1 = 1\n",
      "1 * 2 = 2\n",
      "1 * 3 = 3\n",
      "1 * 4 = 4\n",
      "1 * 5 = 5\n",
      "1 * 6 = 6\n",
      "1 * 7 = 7\n",
      "1 * 8 = 8\n",
      "1 * 9 = 9\n",
      "2 * 1 = 2\n",
      "2 * 2 = 4\n",
      "2 * 3 = 6\n",
      "2 * 4 = 8\n",
      "2 * 5 = 10\n",
      "2 * 6 = 12\n",
      "2 * 7 = 14\n",
      "2 * 8 = 16\n",
      "2 * 9 = 18\n",
      "3 * 1 = 3\n",
      "3 * 2 = 6\n",
      "3 * 3 = 9\n",
      "3 * 4 = 12\n",
      "3 * 5 = 15\n",
      "3 * 6 = 18\n",
      "3 * 7 = 21\n",
      "3 * 8 = 24\n",
      "3 * 9 = 27\n",
      "4 * 1 = 4\n",
      "4 * 2 = 8\n",
      "4 * 3 = 12\n",
      "4 * 4 = 16\n",
      "4 * 5 = 20\n",
      "4 * 6 = 24\n",
      "4 * 7 = 28\n",
      "4 * 8 = 32\n",
      "4 * 9 = 36\n",
      "5 * 1 = 5\n",
      "5 * 2 = 10\n",
      "5 * 3 = 15\n",
      "5 * 4 = 20\n",
      "5 * 5 = 25\n",
      "5 * 6 = 30\n",
      "5 * 7 = 35\n",
      "5 * 8 = 40\n",
      "5 * 9 = 45\n",
      "6 * 1 = 6\n",
      "6 * 2 = 12\n",
      "6 * 3 = 18\n",
      "6 * 4 = 24\n",
      "6 * 5 = 30\n",
      "6 * 6 = 36\n",
      "6 * 7 = 42\n",
      "6 * 8 = 48\n",
      "6 * 9 = 54\n",
      "7 * 1 = 7\n",
      "7 * 2 = 14\n",
      "7 * 3 = 21\n",
      "7 * 4 = 28\n",
      "7 * 5 = 35\n",
      "7 * 6 = 42\n",
      "7 * 7 = 49\n",
      "7 * 8 = 56\n",
      "7 * 9 = 63\n",
      "8 * 1 = 8\n",
      "8 * 2 = 16\n",
      "8 * 3 = 24\n",
      "8 * 4 = 32\n",
      "8 * 5 = 40\n",
      "8 * 6 = 48\n",
      "8 * 7 = 56\n",
      "8 * 8 = 64\n",
      "8 * 9 = 72\n",
      "9 * 1 = 9\n",
      "9 * 2 = 18\n",
      "9 * 3 = 27\n",
      "9 * 4 = 36\n",
      "9 * 5 = 45\n",
      "9 * 6 = 54\n",
      "9 * 7 = 63\n",
      "9 * 8 = 72\n",
      "9 * 9 = 81\n"
     ]
    }
   ],
   "source": [
    "def ymn():\n",
    "    for i in range(1, 10):\n",
    "        for j in range(1, 10):\n",
    "            print(f\"{i} * {j} = {i*j}\")\n",
    "ymn()"
   ]
  },
  {
   "cell_type": "markdown",
   "id": "b5bf4a5e",
   "metadata": {},
   "source": [
    "Задание 2.2: Поиск простых чисел\n",
    "Напишите функцию, которая находит все простые числа от 2 до заданного числа n. Используйте цикл for и проверку делимости."
   ]
  },
  {
   "cell_type": "code",
   "execution_count": 15,
   "id": "99810a89",
   "metadata": {},
   "outputs": [
    {
     "name": "stdout",
     "output_type": "stream",
     "text": [
      "[2, 3, 5, 7, 11, 13, 17, 19, 23]\n"
     ]
    }
   ],
   "source": [
    "def simple(n):\n",
    "    smpl = []\n",
    "    for i in range(2, n + 1):\n",
    "        flag = 0\n",
    "        for j in range(2, i - 1):\n",
    "            if i % j == 0:\n",
    "                flag = 1\n",
    "                break\n",
    "        if flag == 0:\n",
    "            smpl.append(i)\n",
    "    return smpl\n",
    "print(simple(23))"
   ]
  },
  {
   "cell_type": "markdown",
   "id": "163e18bd",
   "metadata": {},
   "source": [
    "Задание 2.3: Игра \"Угадай число\"\n",
    "Создайте игру, где компьютер загадывает случайное число от 1 до 100, а пользователь пытается его угадать. Программа должна:\n",
    "\n",
    "Генерировать случайное число\n",
    "Принимать ввод от пользователя\n",
    "Давать подсказки \"больше\" или \"меньше\"\n",
    "Считать количество попыток\n",
    "Использовать цикл while"
   ]
  },
  {
   "cell_type": "code",
   "execution_count": 10,
   "id": "305b476c",
   "metadata": {},
   "outputs": [
    {
     "name": "stdout",
     "output_type": "stream",
     "text": [
      "24\n",
      "больше\n",
      "50\n",
      "больше\n",
      "55\n",
      "больше\n",
      "60\n",
      "больше\n",
      "70\n",
      "больше\n",
      "80\n",
      "больше\n",
      "90\n",
      "больше\n",
      "99\n",
      "меньше\n",
      "97\n",
      "меньше\n",
      "95\n",
      "меньше\n",
      "93\n",
      "меньше\n",
      "91\n",
      "больше\n",
      "92\n",
      "успех\n"
     ]
    }
   ],
   "source": [
    "import random\n",
    "def play():\n",
    "    play_int = int(input())\n",
    "    random_number = random.randint(0, 100)\n",
    "    while play_int != random_number:\n",
    "        if play_int > random_number:\n",
    "            print(\"меньше\")\n",
    "        else:\n",
    "            print(\"больше\")\n",
    "        play_int = int(input())\n",
    "    print(\"успех\")\n",
    "play()"
   ]
  },
  {
   "cell_type": "markdown",
   "id": "7fa5aef3",
   "metadata": {},
   "source": [
    "Задание 2.4: Анализ текста\n",
    "Напишите программу, которая анализирует текст и выводит:\n",
    "\n",
    "Количество символов\n",
    "Количество слов\n",
    "Количество предложений\n",
    "Самые частые слова (топ-5)\n",
    "Используйте циклы for для обработки текста."
   ]
  },
  {
   "cell_type": "code",
   "execution_count": 11,
   "id": "a247a420",
   "metadata": {},
   "outputs": [
    {
     "ename": "FileNotFoundError",
     "evalue": "[Errno 2] No such file or directory: 'file.txt'",
     "output_type": "error",
     "traceback": [
      "\u001b[1;31m---------------------------------------------------------------------------\u001b[0m",
      "\u001b[1;31mFileNotFoundError\u001b[0m                         Traceback (most recent call last)",
      "Cell \u001b[1;32mIn[11], line 31\u001b[0m\n\u001b[0;32m     29\u001b[0m     \u001b[38;5;28;01mfor\u001b[39;00m i, (word, count) \u001b[38;5;129;01min\u001b[39;00m \u001b[38;5;28menumerate\u001b[39m(sorted_words[:\u001b[38;5;241m5\u001b[39m], \u001b[38;5;241m1\u001b[39m):\n\u001b[0;32m     30\u001b[0m         \u001b[38;5;28mprint\u001b[39m(\u001b[38;5;124mf\u001b[39m\u001b[38;5;124m\"\u001b[39m\u001b[38;5;124m   \u001b[39m\u001b[38;5;132;01m{\u001b[39;00mi\u001b[38;5;132;01m}\u001b[39;00m\u001b[38;5;124m. \u001b[39m\u001b[38;5;124m'\u001b[39m\u001b[38;5;132;01m{\u001b[39;00mword\u001b[38;5;132;01m}\u001b[39;00m\u001b[38;5;124m'\u001b[39m\u001b[38;5;124m - \u001b[39m\u001b[38;5;132;01m{\u001b[39;00mcount\u001b[38;5;132;01m}\u001b[39;00m\u001b[38;5;124m раз(а)\u001b[39m\u001b[38;5;124m\"\u001b[39m)\n\u001b[1;32m---> 31\u001b[0m \u001b[43manalyze_text\u001b[49m\u001b[43m(\u001b[49m\u001b[38;5;124;43m'\u001b[39;49m\u001b[38;5;124;43mfile.txt\u001b[39;49m\u001b[38;5;124;43m'\u001b[39;49m\u001b[43m)\u001b[49m\n",
      "Cell \u001b[1;32mIn[11], line 2\u001b[0m, in \u001b[0;36manalyze_text\u001b[1;34m(file)\u001b[0m\n\u001b[0;32m      1\u001b[0m \u001b[38;5;28;01mdef\u001b[39;00m \u001b[38;5;21manalyze_text\u001b[39m(file):\n\u001b[1;32m----> 2\u001b[0m     \u001b[38;5;28;01mwith\u001b[39;00m \u001b[38;5;28;43mopen\u001b[39;49m\u001b[43m(\u001b[49m\u001b[38;5;124;43m'\u001b[39;49m\u001b[38;5;124;43mfile.txt\u001b[39;49m\u001b[38;5;124;43m'\u001b[39;49m\u001b[43m,\u001b[49m\u001b[43m \u001b[49m\u001b[38;5;124;43m'\u001b[39;49m\u001b[38;5;124;43mr\u001b[39;49m\u001b[38;5;124;43m'\u001b[39;49m\u001b[43m,\u001b[49m\u001b[43m \u001b[49m\u001b[43mencoding\u001b[49m\u001b[38;5;241;43m=\u001b[39;49m\u001b[38;5;124;43m'\u001b[39;49m\u001b[38;5;124;43mutf-8\u001b[39;49m\u001b[38;5;124;43m'\u001b[39;49m\u001b[43m)\u001b[49m \u001b[38;5;28;01mas\u001b[39;00m file:\n\u001b[0;32m      3\u001b[0m         text \u001b[38;5;241m=\u001b[39m file\u001b[38;5;241m.\u001b[39mread()\n\u001b[0;32m      4\u001b[0m     char_count \u001b[38;5;241m=\u001b[39m \u001b[38;5;28mlen\u001b[39m(text)\n",
      "File \u001b[1;32m~\\anaconda3\\lib\\site-packages\\IPython\\core\\interactiveshell.py:282\u001b[0m, in \u001b[0;36m_modified_open\u001b[1;34m(file, *args, **kwargs)\u001b[0m\n\u001b[0;32m    275\u001b[0m \u001b[38;5;28;01mif\u001b[39;00m file \u001b[38;5;129;01min\u001b[39;00m {\u001b[38;5;241m0\u001b[39m, \u001b[38;5;241m1\u001b[39m, \u001b[38;5;241m2\u001b[39m}:\n\u001b[0;32m    276\u001b[0m     \u001b[38;5;28;01mraise\u001b[39;00m \u001b[38;5;167;01mValueError\u001b[39;00m(\n\u001b[0;32m    277\u001b[0m         \u001b[38;5;124mf\u001b[39m\u001b[38;5;124m\"\u001b[39m\u001b[38;5;124mIPython won\u001b[39m\u001b[38;5;124m'\u001b[39m\u001b[38;5;124mt let you open fd=\u001b[39m\u001b[38;5;132;01m{\u001b[39;00mfile\u001b[38;5;132;01m}\u001b[39;00m\u001b[38;5;124m by default \u001b[39m\u001b[38;5;124m\"\u001b[39m\n\u001b[0;32m    278\u001b[0m         \u001b[38;5;124m\"\u001b[39m\u001b[38;5;124mas it is likely to crash IPython. If you know what you are doing, \u001b[39m\u001b[38;5;124m\"\u001b[39m\n\u001b[0;32m    279\u001b[0m         \u001b[38;5;124m\"\u001b[39m\u001b[38;5;124myou can use builtins\u001b[39m\u001b[38;5;124m'\u001b[39m\u001b[38;5;124m open.\u001b[39m\u001b[38;5;124m\"\u001b[39m\n\u001b[0;32m    280\u001b[0m     )\n\u001b[1;32m--> 282\u001b[0m \u001b[38;5;28;01mreturn\u001b[39;00m io_open(file, \u001b[38;5;241m*\u001b[39margs, \u001b[38;5;241m*\u001b[39m\u001b[38;5;241m*\u001b[39mkwargs)\n",
      "\u001b[1;31mFileNotFoundError\u001b[0m: [Errno 2] No such file or directory: 'file.txt'"
     ]
    }
   ],
   "source": [
    "def analyze_text(file):\n",
    "    with open('file.txt', 'r', encoding='utf-8') as file:\n",
    "        text = file.read()\n",
    "    char_count = len(text)\n",
    "    print(char_count)\n",
    "    words = text.split()\n",
    "    word_count = len(words)\n",
    "    print(word_count)\n",
    "    sentence_count = 0\n",
    "    for char in text:\n",
    "        if char in '.!?':\n",
    "            sentence_count += 1\n",
    "    print(sentence_count)\n",
    "    word_freq = {}\n",
    "    cleaned_words = []\n",
    "    for word in words:\n",
    "        clean_word = ''.join(char for char in word if char.isalnum()).lower()\n",
    "        if clean_word:\n",
    "            cleaned_words.append(clean_word)\n",
    "    for word in cleaned_words:\n",
    "        if word in word_freq:\n",
    "            word_freq[word] += 1\n",
    "        else:\n",
    "            word_freq[word] = 1\n",
    "\n",
    "    sorted_words = sorted(word_freq.items(), key=lambda x: x[1], reverse=True)\n",
    "\n",
    "    print(\"4. Самые частые слова (топ-5):\")\n",
    "    for i, (word, count) in enumerate(sorted_words[:5], 1):\n",
    "        print(f\"   {i}. '{word}' - {count} раз(а)\")\n",
    "analyze_text('file.txt')"
   ]
  },
  {
   "cell_type": "markdown",
   "id": "96b5f512",
   "metadata": {},
   "source": [
    "3. ОБРАБОТКА ОШИБОК\n",
    "Задание 3.1: Безопасный калькулятор\n",
    "Создайте калькулятор, который безопасно выполняет арифметические операции:\n",
    "\n",
    "Принимает два числа и операцию (+, -, *, /)\n",
    "Обрабатывает деление на ноль\n",
    "Обрабатывает неверный ввод (не числа)\n",
    "Обрабатывает неверные операции\n",
    "Использует try-except-finally блоки"
   ]
  },
  {
   "cell_type": "code",
   "execution_count": 12,
   "id": "e1cc4ffe",
   "metadata": {},
   "outputs": [
    {
     "name": "stdout",
     "output_type": "stream",
     "text": [
      "2.0\n"
     ]
    }
   ],
   "source": [
    "def calc(mark1:int, mark2: int, mark3: str):\n",
    "    try:\n",
    "        status = mark3\n",
    "        match status:\n",
    "            case '+':\n",
    "                print(mark1+mark2)\n",
    "            case '-':\n",
    "                print(mark1 - mark2)\n",
    "            case '/':\n",
    "                print(mark1 / mark2)\n",
    "            case '*':\n",
    "                print(mark1 * mark2)\n",
    "    except ZeroDivisionError:\n",
    "        print(\"Ошибка: деление на ноль запрещено!\")\n",
    "    except ValueError:\n",
    "        print(\"Ошибка: введено не число!\")\n",
    "    except TypeError:\n",
    "        print(\"Ошибка: несовместимые типы данных!\")\n",
    "    except NameError:\n",
    "        print(\"Ошибка: переменная не определена!\")\n",
    "calc(10,5, '/')"
   ]
  },
  {
   "cell_type": "code",
   "execution_count": null,
   "id": "0f8b3247",
   "metadata": {},
   "outputs": [],
   "source": []
  }
 ],
 "metadata": {
  "kernelspec": {
   "display_name": "Python 3 (ipykernel)",
   "language": "python",
   "name": "python3"
  },
  "language_info": {
   "codemirror_mode": {
    "name": "ipython",
    "version": 3
   },
   "file_extension": ".py",
   "mimetype": "text/x-python",
   "name": "python",
   "nbconvert_exporter": "python",
   "pygments_lexer": "ipython3",
   "version": "3.10.9"
  }
 },
 "nbformat": 4,
 "nbformat_minor": 5
}
